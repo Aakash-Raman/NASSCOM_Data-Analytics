{
 "cells": [
  {
   "cell_type": "code",
   "execution_count": 7,
   "metadata": {},
   "outputs": [
    {
     "name": "stderr",
     "output_type": "stream",
     "text": [
      "Installing package into ‘/srv/rlibs’\n",
      "(as ‘lib’ is unspecified)\n",
      "also installing the dependency ‘mnormt’\n",
      "\n"
     ]
    }
   ],
   "source": [
    "install.packages('psych')"
   ]
  },
  {
   "cell_type": "code",
   "execution_count": 11,
   "metadata": {},
   "outputs": [
    {
     "data": {
      "text/html": [
       "<table>\n",
       "<caption>A data.frame: 20 × 6</caption>\n",
       "<thead>\n",
       "\t<tr><th></th><th scope=col>Instructor</th><th scope=col>Grade</th><th scope=col>Words_per_minute</th><th scope=col>Proofreading</th><th scope=col>Spreadsheet</th><th scope=col>Statistics</th></tr>\n",
       "\t<tr><th></th><th scope=col>&lt;fct&gt;</th><th scope=col>&lt;int&gt;</th><th scope=col>&lt;int&gt;</th><th scope=col>&lt;int&gt;</th><th scope=col>&lt;int&gt;</th><th scope=col>&lt;int&gt;</th></tr>\n",
       "</thead>\n",
       "<tbody>\n",
       "\t<tr><th scope=row>1</th><td>Dr. Katz</td><td>6</td><td>35</td><td>53</td><td>75</td><td>61</td></tr>\n",
       "\t<tr><th scope=row>2</th><td>Dr. Katz</td><td>6</td><td>50</td><td>77</td><td>24</td><td>51</td></tr>\n",
       "\t<tr><th scope=row>3</th><td>Dr. Katz</td><td>6</td><td>55</td><td>71</td><td>62</td><td>55</td></tr>\n",
       "\t<tr><th scope=row>4</th><td>Dr. Katz</td><td>6</td><td>60</td><td>78</td><td>27</td><td>91</td></tr>\n",
       "\t<tr><th scope=row>5</th><td>Dr. Katz</td><td>6</td><td>65</td><td>84</td><td>44</td><td>95</td></tr>\n",
       "\t<tr><th scope=row>6</th><td>Dr. Katz</td><td>6</td><td>60</td><td>79</td><td>38</td><td>50</td></tr>\n",
       "\t<tr><th scope=row>7</th><td>Dr. Katz</td><td>6</td><td>70</td><td>96</td><td>12</td><td>94</td></tr>\n",
       "\t<tr><th scope=row>8</th><td>Dr. Katz</td><td>6</td><td>45</td><td>73</td><td>59</td><td>75</td></tr>\n",
       "\t<tr><th scope=row>9</th><td>Dr. Katz</td><td>6</td><td>55</td><td>75</td><td>55</td><td>80</td></tr>\n",
       "\t<tr><th scope=row>10</th><td>Dr. Katz</td><td>6</td><td>60</td><td>85</td><td>35</td><td>84</td></tr>\n",
       "\t<tr><th scope=row>11</th><td>Dr. Katz</td><td>6</td><td>45</td><td>61</td><td>49</td><td>80</td></tr>\n",
       "\t<tr><th scope=row>12</th><td>Laura   </td><td>7</td><td>55</td><td>59</td><td>79</td><td>57</td></tr>\n",
       "\t<tr><th scope=row>13</th><td>Laura   </td><td>7</td><td>60</td><td>60</td><td>60</td><td>60</td></tr>\n",
       "\t<tr><th scope=row>14</th><td>Laura   </td><td>7</td><td>75</td><td>90</td><td>19</td><td>64</td></tr>\n",
       "\t<tr><th scope=row>15</th><td>Laura   </td><td>7</td><td>65</td><td>87</td><td>32</td><td>65</td></tr>\n",
       "\t<tr><th scope=row>16</th><td>Laura   </td><td>7</td><td>60</td><td>70</td><td>33</td><td>94</td></tr>\n",
       "\t<tr><th scope=row>17</th><td>Laura   </td><td>7</td><td>70</td><td>84</td><td>27</td><td>54</td></tr>\n",
       "\t<tr><th scope=row>18</th><td>Laura   </td><td>7</td><td>75</td><td>87</td><td>24</td><td>59</td></tr>\n",
       "\t<tr><th scope=row>19</th><td>Laura   </td><td>7</td><td>70</td><td>97</td><td>38</td><td>74</td></tr>\n",
       "\t<tr><th scope=row>20</th><td>Laura   </td><td>7</td><td>65</td><td>86</td><td>30</td><td>52</td></tr>\n",
       "</tbody>\n",
       "</table>\n"
      ],
      "text/latex": [
       "A data.frame: 20 × 6\n",
       "\\begin{tabular}{r|llllll}\n",
       "  & Instructor & Grade & Words\\_per\\_minute & Proofreading & Spreadsheet & Statistics\\\\\n",
       "  & <fct> & <int> & <int> & <int> & <int> & <int>\\\\\n",
       "\\hline\n",
       "\t1 & Dr. Katz & 6 & 35 & 53 & 75 & 61\\\\\n",
       "\t2 & Dr. Katz & 6 & 50 & 77 & 24 & 51\\\\\n",
       "\t3 & Dr. Katz & 6 & 55 & 71 & 62 & 55\\\\\n",
       "\t4 & Dr. Katz & 6 & 60 & 78 & 27 & 91\\\\\n",
       "\t5 & Dr. Katz & 6 & 65 & 84 & 44 & 95\\\\\n",
       "\t6 & Dr. Katz & 6 & 60 & 79 & 38 & 50\\\\\n",
       "\t7 & Dr. Katz & 6 & 70 & 96 & 12 & 94\\\\\n",
       "\t8 & Dr. Katz & 6 & 45 & 73 & 59 & 75\\\\\n",
       "\t9 & Dr. Katz & 6 & 55 & 75 & 55 & 80\\\\\n",
       "\t10 & Dr. Katz & 6 & 60 & 85 & 35 & 84\\\\\n",
       "\t11 & Dr. Katz & 6 & 45 & 61 & 49 & 80\\\\\n",
       "\t12 & Laura    & 7 & 55 & 59 & 79 & 57\\\\\n",
       "\t13 & Laura    & 7 & 60 & 60 & 60 & 60\\\\\n",
       "\t14 & Laura    & 7 & 75 & 90 & 19 & 64\\\\\n",
       "\t15 & Laura    & 7 & 65 & 87 & 32 & 65\\\\\n",
       "\t16 & Laura    & 7 & 60 & 70 & 33 & 94\\\\\n",
       "\t17 & Laura    & 7 & 70 & 84 & 27 & 54\\\\\n",
       "\t18 & Laura    & 7 & 75 & 87 & 24 & 59\\\\\n",
       "\t19 & Laura    & 7 & 70 & 97 & 38 & 74\\\\\n",
       "\t20 & Laura    & 7 & 65 & 86 & 30 & 52\\\\\n",
       "\\end{tabular}\n"
      ],
      "text/markdown": [
       "\n",
       "A data.frame: 20 × 6\n",
       "\n",
       "| <!--/--> | Instructor &lt;fct&gt; | Grade &lt;int&gt; | Words_per_minute &lt;int&gt; | Proofreading &lt;int&gt; | Spreadsheet &lt;int&gt; | Statistics &lt;int&gt; |\n",
       "|---|---|---|---|---|---|---|\n",
       "| 1 | Dr. Katz | 6 | 35 | 53 | 75 | 61 |\n",
       "| 2 | Dr. Katz | 6 | 50 | 77 | 24 | 51 |\n",
       "| 3 | Dr. Katz | 6 | 55 | 71 | 62 | 55 |\n",
       "| 4 | Dr. Katz | 6 | 60 | 78 | 27 | 91 |\n",
       "| 5 | Dr. Katz | 6 | 65 | 84 | 44 | 95 |\n",
       "| 6 | Dr. Katz | 6 | 60 | 79 | 38 | 50 |\n",
       "| 7 | Dr. Katz | 6 | 70 | 96 | 12 | 94 |\n",
       "| 8 | Dr. Katz | 6 | 45 | 73 | 59 | 75 |\n",
       "| 9 | Dr. Katz | 6 | 55 | 75 | 55 | 80 |\n",
       "| 10 | Dr. Katz | 6 | 60 | 85 | 35 | 84 |\n",
       "| 11 | Dr. Katz | 6 | 45 | 61 | 49 | 80 |\n",
       "| 12 | Laura    | 7 | 55 | 59 | 79 | 57 |\n",
       "| 13 | Laura    | 7 | 60 | 60 | 60 | 60 |\n",
       "| 14 | Laura    | 7 | 75 | 90 | 19 | 64 |\n",
       "| 15 | Laura    | 7 | 65 | 87 | 32 | 65 |\n",
       "| 16 | Laura    | 7 | 60 | 70 | 33 | 94 |\n",
       "| 17 | Laura    | 7 | 70 | 84 | 27 | 54 |\n",
       "| 18 | Laura    | 7 | 75 | 87 | 24 | 59 |\n",
       "| 19 | Laura    | 7 | 70 | 97 | 38 | 74 |\n",
       "| 20 | Laura    | 7 | 65 | 86 | 30 | 52 |\n",
       "\n"
      ],
      "text/plain": [
       "   Instructor Grade Words_per_minute Proofreading Spreadsheet Statistics\n",
       "1  Dr. Katz   6     35               53           75          61        \n",
       "2  Dr. Katz   6     50               77           24          51        \n",
       "3  Dr. Katz   6     55               71           62          55        \n",
       "4  Dr. Katz   6     60               78           27          91        \n",
       "5  Dr. Katz   6     65               84           44          95        \n",
       "6  Dr. Katz   6     60               79           38          50        \n",
       "7  Dr. Katz   6     70               96           12          94        \n",
       "8  Dr. Katz   6     45               73           59          75        \n",
       "9  Dr. Katz   6     55               75           55          80        \n",
       "10 Dr. Katz   6     60               85           35          84        \n",
       "11 Dr. Katz   6     45               61           49          80        \n",
       "12 Laura      7     55               59           79          57        \n",
       "13 Laura      7     60               60           60          60        \n",
       "14 Laura      7     75               90           19          64        \n",
       "15 Laura      7     65               87           32          65        \n",
       "16 Laura      7     60               70           33          94        \n",
       "17 Laura      7     70               84           27          54        \n",
       "18 Laura      7     75               87           24          59        \n",
       "19 Laura      7     70               97           38          74        \n",
       "20 Laura      7     65               86           30          52        "
      ]
     },
     "metadata": {},
     "output_type": "display_data"
    }
   ],
   "source": [
    "assignment<-read.csv('assignment.csv')\n",
    "head(assignment, 20)\n"
   ]
  },
  {
   "cell_type": "code",
   "execution_count": 12,
   "metadata": {},
   "outputs": [
    {
     "data": {
      "text/plain": [
       "Call:corr.test(x = assignment[2:6])\n",
       "Correlation matrix \n",
       "                 Grade Words_per_minute Proofreading Spreadsheet Statistics\n",
       "Grade             1.00             0.32         0.01       -0.02       0.08\n",
       "Words_per_minute  0.32             1.00         0.71       -0.61      -0.07\n",
       "Proofreading      0.01             0.71         1.00       -0.79      -0.12\n",
       "Spreadsheet      -0.02            -0.61        -0.79        1.00       0.12\n",
       "Statistics        0.08            -0.07        -0.12        0.12       1.00\n",
       "Sample Size \n",
       "[1] 35\n",
       "Probability values (Entries above the diagonal are adjusted for multiple tests.) \n",
       "                 Grade Words_per_minute Proofreading Spreadsheet Statistics\n",
       "Grade             0.00             0.45          1.0        1.00          1\n",
       "Words_per_minute  0.06             0.00          0.0        0.00          1\n",
       "Proofreading      0.97             0.00          0.0        0.00          1\n",
       "Spreadsheet       0.89             0.00          0.0        0.00          1\n",
       "Statistics        0.66             0.68          0.5        0.51          0\n",
       "\n",
       " To see confidence intervals of the correlations, print with the short=FALSE option"
      ]
     },
     "metadata": {},
     "output_type": "display_data"
    }
   ],
   "source": [
    "#a.\n",
    "library(psych)\n",
    "corr.test(assignment[2:6])\n",
    "#We can conclude words_per_minute and Proofreading as strongly related.corelation coefficient =0.71\n",
    "#b.proofreading and grade are statistically uncorrelated,value=0.01\n",
    "#c.words_per_minute and proofreading are positively correlated, value=0.71\n",
    "#d.proofreading and spreadsheet are negatively corelated with highest corelation coefficient=-0.79\n",
    "\n"
   ]
  },
  {
   "cell_type": "code",
   "execution_count": 13,
   "metadata": {},
   "outputs": [
    {
     "data": {
      "text/html": [
       "-0.790000312716386"
      ],
      "text/latex": [
       "-0.790000312716386"
      ],
      "text/markdown": [
       "-0.790000312716386"
      ],
      "text/plain": [
       "[1] -0.7900003"
      ]
     },
     "metadata": {},
     "output_type": "display_data"
    },
    {
     "data": {
      "text/html": [
       "-0.571428780504085"
      ],
      "text/latex": [
       "-0.571428780504085"
      ],
      "text/markdown": [
       "-0.571428780504085"
      ],
      "text/plain": [
       "[1] -0.5714288"
      ]
     },
     "metadata": {},
     "output_type": "display_data"
    },
    {
     "data": {
      "text/html": [
       "-0.743073579719433"
      ],
      "text/latex": [
       "-0.743073579719433"
      ],
      "text/markdown": [
       "-0.743073579719433"
      ],
      "text/plain": [
       "[1] -0.7430736"
      ]
     },
     "metadata": {},
     "output_type": "display_data"
    }
   ],
   "source": [
    "#e.\n",
    "cc<-cor(assignment$Spreadsheet,assignment$Proofreading)\n",
    "cc #e1.has the correlation coefft value for the above [1] -0.7900003\n",
    "tau<-cor(assignment$Spreadsheet,assignment$Proofreading,method = c(\"kendall\"))\n",
    "tau#e2.has the tau value(kendall correlation) [1] -0.5714288\n",
    "rho<-cor(assignment$Spreadsheet,assignment$Proofreading,method = c(\"spearman\"))\n",
    "rho#e3.has the rho value(Spearman correlation) [1] -0.7430736\n"
   ]
  },
  {
   "cell_type": "code",
   "execution_count": 14,
   "metadata": {},
   "outputs": [
    {
     "data": {
      "text/plain": [
       "\n",
       "Call:\n",
       "lm(formula = assignment$Proofreading ~ assignment$Words_per_minute, \n",
       "    data = assignment)\n",
       "\n",
       "Coefficients:\n",
       "                (Intercept)  assignment$Words_per_minute  \n",
       "                    19.7090                       0.9507  \n"
      ]
     },
     "metadata": {},
     "output_type": "display_data"
    },
    {
     "data": {
      "text/html": [
       "2.33987213767699e-06"
      ],
      "text/latex": [
       "2.33987213767699e-06"
      ],
      "text/markdown": [
       "2.33987213767699e-06"
      ],
      "text/plain": [
       "[1] 2.339872e-06"
      ]
     },
     "metadata": {},
     "output_type": "display_data"
    },
    {
     "data": {
      "text/html": [
       "0.509951225992423"
      ],
      "text/latex": [
       "0.509951225992423"
      ],
      "text/markdown": [
       "0.509951225992423"
      ],
      "text/plain": [
       "[1] 0.5099512"
      ]
     },
     "metadata": {},
     "output_type": "display_data"
    },
    {
     "data": {
      "image/png": "[encoded data removed]",
      "text/plain": [
       "Plot with title “Proofreading ~ Words_per_Minute”"
      ]
     },
     "metadata": {},
     "output_type": "display_data"
    }
   ],
   "source": [
    "#f.\n",
    "linearmod<-lm(assignment$Proofreading ~ assignment$Words_per_minute, data=assignment)\n",
    "linearmod#f.Linear Model\n",
    "modelSummary <- summary(linearmod)  # capture model summary as an object\n",
    "modelCoeffs <- modelSummary$coefficients  # model coefficients\n",
    "beta.estimate <- modelCoeffs[\"assignment$Words_per_minute\", \"Estimate\"]  # get beta estimate \n",
    "std.error <- modelCoeffs[\"assignment$Words_per_minute\", \"Std. Error\"]  # get std.error \n",
    "t_value <- beta.estimate/std.error  # calc t statistic\n",
    "p_value <- 2*pt(-abs(t_value), df=nrow(assignment)-ncol(assignment))\n",
    "p_value#f1.calc for p value 2.339872e-06                \n",
    "summary(linearmod)$r.squared#f2. R squared value [1] 0.5099512\n",
    "#f3. The linear regression model is not an appropriate model since the R squared value is <0.70 \n",
    "#f4. Conclusions\n",
    "scatter.smooth(x=assignment$Proofreading, y=assignment$Words_per_minute, main=\"Proofreading ~ Words_per_Minute\")\n",
    "#**Conclusions**\n",
    "#low R-square and low p-value\n",
    "#*Means that your model doesn't explain much of variation of the data but it is significant*\n"
   ]
  },
  {
   "cell_type": "code",
   "execution_count": null,
   "metadata": {},
   "outputs": [],
   "source": []
  }
 ],
 "metadata": {
  "kernelspec": {
   "display_name": "R",
   "language": "R",
   "name": "ir"
  },
  "language_info": {
   "codemirror_mode": "r",
   "file_extension": ".r",
   "mimetype": "text/x-r-source",
   "name": "R",
   "pygments_lexer": "r",
   "version": "3.6.2"
  }
 },
 "nbformat": 4,
 "nbformat_minor": 2
}
